{
 "cells": [
  {
   "cell_type": "code",
   "execution_count": 1,
   "metadata": {
    "collapsed": true
   },
   "outputs": [],
   "source": [
    "import pandas as pd\n",
    "import random\n",
    "from data import preguntas"
   ]
  },
  {
   "cell_type": "code",
   "execution_count": 3,
   "outputs": [],
   "source": [
    "cuestionario = random.sample(preguntas,65)"
   ],
   "metadata": {
    "collapsed": false
   }
  },
  {
   "cell_type": "code",
   "execution_count": 4,
   "outputs": [
    {
     "data": {
      "text/plain": "                                             pregunta  \\\n0   A company has acquired several other companies...   \n1   A company wants to migrate a critical applicat...   \n2   A large company has a workload that requires h...   \n3   A company wants to build a data analytics appl...   \n4   A development team wants to publish and manage...   \n..                                                ...   \n60  A company is planning to replace its physical ...   \n61  Which task is the responsibility of AWS, accor...   \n62  A company manages an on-premises MySQL databas...   \n63  What are the five pillars of the AWS Well-Arch...   \n64  What is the scope of a VPC within the AWS netw...   \n\n                                             opciones  \\\n0   A. AWS Systems Manager\\nB. AWS Organizations\\n...   \n1   Amazon EC2 On-Demand Instances, AWS Lambda, Am...   \n2   A. AWS Device Farm\\nB. AWS Fargate\\nC. AWS Out...   \n3   A. AWS Budgets\\nB. AWS Pricing Calculator\\nC. ...   \n4   A. AWS App Mesh\\nB. Amazon API Gateway\\nC. Ama...   \n..                                                ...   \n60  Security, Performance Efficiency, Operational ...   \n61  A. Apply guest operating system patches to Ama...   \n62  A. Amazon Redshift\\nB. Amazon ElastiCache\\nC. ...   \n63  A. Encryption, documentation, speed, hybrid de...   \n64  A VPC can span all Availability Zones globally...   \n\n                                            respuesta  \\\n0                                B. AWS Organizations   \n1                                          AWS Lambda   \n2                                     C. AWS Outposts   \n3                           B. AWS Pricing Calculator   \n4                               B. Amazon API Gateway   \n..                                                ...   \n60                             Performance efficiency   \n61  C. Perform automated backups of Amazon RDS ins...   \n62                                      C. Amazon RDS   \n63  D. Operational excellence, reliability, perfor...   \n64  A VPC can span all Availability Zones within a...   \n\n                                            argumento  \\\n0   AWS Organizations is an account management ser...   \n1   AWS Lambda\\n        1. Run code without provis...   \n2   Truly consistent hybrid experience Use the sam...   \n3                                                       \n4   Amazon API Gateway is a fully managed service ...   \n..                                                ...   \n60  The performance efficiency pillar focuses on t...   \n61  AWS is responsible for managing and maintainin...   \n62  Amazon Relational Database Service (Amazon RDS...   \n63  Operational excellence - Focuses on operationa...   \n64  A VPC is a logically isolated section of the A...   \n\n                                           referencia  \n0   https://docs.aws.amazon.com/organizations/late...  \n1                      https://aws.amazon.com/lambda/  \n2                    https://aws.amazon.com/outposts/  \n3   https://www.examtopics.com/exams/amazon/aws-ce...  \n4                 https://aws.amazon.com/api-gateway/  \n..                                                ...  \n60  https://aws.amazon.com/blogs/apn/the-6-pillars...  \n61  https://docs.aws.amazon.com/AmazonRDS/latest/U...  \n62                        https://aws.amazon.com/rds/  \n63  https://aws.amazon.com/blogs/apn/the-6-pillars...  \n64                                                     \n\n[65 rows x 5 columns]",
      "text/html": "<div>\n<style scoped>\n    .dataframe tbody tr th:only-of-type {\n        vertical-align: middle;\n    }\n\n    .dataframe tbody tr th {\n        vertical-align: top;\n    }\n\n    .dataframe thead th {\n        text-align: right;\n    }\n</style>\n<table border=\"1\" class=\"dataframe\">\n  <thead>\n    <tr style=\"text-align: right;\">\n      <th></th>\n      <th>pregunta</th>\n      <th>opciones</th>\n      <th>respuesta</th>\n      <th>argumento</th>\n      <th>referencia</th>\n    </tr>\n  </thead>\n  <tbody>\n    <tr>\n      <th>0</th>\n      <td>A company has acquired several other companies...</td>\n      <td>A. AWS Systems Manager\\nB. AWS Organizations\\n...</td>\n      <td>B. AWS Organizations</td>\n      <td>AWS Organizations is an account management ser...</td>\n      <td>https://docs.aws.amazon.com/organizations/late...</td>\n    </tr>\n    <tr>\n      <th>1</th>\n      <td>A company wants to migrate a critical applicat...</td>\n      <td>Amazon EC2 On-Demand Instances, AWS Lambda, Am...</td>\n      <td>AWS Lambda</td>\n      <td>AWS Lambda\\n        1. Run code without provis...</td>\n      <td>https://aws.amazon.com/lambda/</td>\n    </tr>\n    <tr>\n      <th>2</th>\n      <td>A large company has a workload that requires h...</td>\n      <td>A. AWS Device Farm\\nB. AWS Fargate\\nC. AWS Out...</td>\n      <td>C. AWS Outposts</td>\n      <td>Truly consistent hybrid experience Use the sam...</td>\n      <td>https://aws.amazon.com/outposts/</td>\n    </tr>\n    <tr>\n      <th>3</th>\n      <td>A company wants to build a data analytics appl...</td>\n      <td>A. AWS Budgets\\nB. AWS Pricing Calculator\\nC. ...</td>\n      <td>B. AWS Pricing Calculator</td>\n      <td></td>\n      <td>https://www.examtopics.com/exams/amazon/aws-ce...</td>\n    </tr>\n    <tr>\n      <th>4</th>\n      <td>A development team wants to publish and manage...</td>\n      <td>A. AWS App Mesh\\nB. Amazon API Gateway\\nC. Ama...</td>\n      <td>B. Amazon API Gateway</td>\n      <td>Amazon API Gateway is a fully managed service ...</td>\n      <td>https://aws.amazon.com/api-gateway/</td>\n    </tr>\n    <tr>\n      <th>...</th>\n      <td>...</td>\n      <td>...</td>\n      <td>...</td>\n      <td>...</td>\n      <td>...</td>\n    </tr>\n    <tr>\n      <th>60</th>\n      <td>A company is planning to replace its physical ...</td>\n      <td>Security, Performance Efficiency, Operational ...</td>\n      <td>Performance efficiency</td>\n      <td>The performance efficiency pillar focuses on t...</td>\n      <td>https://aws.amazon.com/blogs/apn/the-6-pillars...</td>\n    </tr>\n    <tr>\n      <th>61</th>\n      <td>Which task is the responsibility of AWS, accor...</td>\n      <td>A. Apply guest operating system patches to Ama...</td>\n      <td>C. Perform automated backups of Amazon RDS ins...</td>\n      <td>AWS is responsible for managing and maintainin...</td>\n      <td>https://docs.aws.amazon.com/AmazonRDS/latest/U...</td>\n    </tr>\n    <tr>\n      <th>62</th>\n      <td>A company manages an on-premises MySQL databas...</td>\n      <td>A. Amazon Redshift\\nB. Amazon ElastiCache\\nC. ...</td>\n      <td>C. Amazon RDS</td>\n      <td>Amazon Relational Database Service (Amazon RDS...</td>\n      <td>https://aws.amazon.com/rds/</td>\n    </tr>\n    <tr>\n      <th>63</th>\n      <td>What are the five pillars of the AWS Well-Arch...</td>\n      <td>A. Encryption, documentation, speed, hybrid de...</td>\n      <td>D. Operational excellence, reliability, perfor...</td>\n      <td>Operational excellence - Focuses on operationa...</td>\n      <td>https://aws.amazon.com/blogs/apn/the-6-pillars...</td>\n    </tr>\n    <tr>\n      <th>64</th>\n      <td>What is the scope of a VPC within the AWS netw...</td>\n      <td>A VPC can span all Availability Zones globally...</td>\n      <td>A VPC can span all Availability Zones within a...</td>\n      <td>A VPC is a logically isolated section of the A...</td>\n      <td></td>\n    </tr>\n  </tbody>\n</table>\n<p>65 rows × 5 columns</p>\n</div>"
     },
     "execution_count": 4,
     "metadata": {},
     "output_type": "execute_result"
    }
   ],
   "source": [
    "df = pd.DataFrame(cuestionario)\n",
    "df"
   ],
   "metadata": {
    "collapsed": false
   }
  }
 ],
 "metadata": {
  "kernelspec": {
   "display_name": "Python 3",
   "language": "python",
   "name": "python3"
  },
  "language_info": {
   "codemirror_mode": {
    "name": "ipython",
    "version": 2
   },
   "file_extension": ".py",
   "mimetype": "text/x-python",
   "name": "python",
   "nbconvert_exporter": "python",
   "pygments_lexer": "ipython2",
   "version": "2.7.6"
  }
 },
 "nbformat": 4,
 "nbformat_minor": 0
}
